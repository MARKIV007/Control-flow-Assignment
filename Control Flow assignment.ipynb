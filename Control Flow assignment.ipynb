{
 "cells": [
  {
   "cell_type": "code",
   "execution_count": 1,
   "id": "db10a721-7a14-40a5-9132-4aab123b128d",
   "metadata": {},
   "outputs": [
    {
     "name": "stdout",
     "output_type": "stream",
     "text": [
      "The number is positive.\n"
     ]
    }
   ],
   "source": [
    "def check_number(n):\n",
    "    if n > 0:\n",
    "        print(\"The number is positive.\")\n",
    "    elif n < 0:\n",
    "        print(\"The number is negative.\")\n",
    "    else:\n",
    "        print(\"The number is zero.\")\n",
    "\n",
    "check_number(10)  # Example usage\n"
   ]
  },
  {
   "cell_type": "code",
   "execution_count": 2,
   "id": "cbf79683-ad8c-4212-baf6-73f217166acd",
   "metadata": {},
   "outputs": [
    {
     "name": "stdout",
     "output_type": "stream",
     "text": [
      "Eligible to vote.\n"
     ]
    }
   ],
   "source": [
    "def can_vote(age):\n",
    "    if age >= 18:\n",
    "        print(\"Eligible to vote.\")\n",
    "    else:\n",
    "        print(\"Not eligible to vote.\")\n",
    "\n",
    "can_vote(20)  # Example usage\n"
   ]
  },
  {
   "cell_type": "code",
   "execution_count": 3,
   "id": "3b648b42-d7df-4a53-9efa-11d151b6b27d",
   "metadata": {},
   "outputs": [
    {
     "name": "stdout",
     "output_type": "stream",
     "text": [
      "20\n"
     ]
    }
   ],
   "source": [
    "def max_of_two(a, b):\n",
    "    if a > b:\n",
    "        return a\n",
    "    else:\n",
    "        return b\n",
    "\n",
    "print(max_of_two(10, 20))  # Example usage\n"
   ]
  },
  {
   "cell_type": "code",
   "execution_count": 4,
   "id": "aad2739a-35bf-4409-aee0-b38f050f99b3",
   "metadata": {},
   "outputs": [
    {
     "name": "stdout",
     "output_type": "stream",
     "text": [
      "Leap year.\n"
     ]
    }
   ],
   "source": [
    "def is_leap_year(year):\n",
    "    if (year % 4 == 0 and year % 100 != 0) or (year % 400 == 0):\n",
    "        print(\"Leap year.\")\n",
    "    else:\n",
    "        print(\"Not a leap year.\")\n",
    "\n",
    "is_leap_year(2020)  # Example usage\n"
   ]
  },
  {
   "cell_type": "code",
   "execution_count": 5,
   "id": "1d9fe4df-e808-4a88-9d8e-4ce331840477",
   "metadata": {},
   "outputs": [
    {
     "name": "stdout",
     "output_type": "stream",
     "text": [
      "Vowel.\n"
     ]
    }
   ],
   "source": [
    "def check_vowel_consonant(char):\n",
    "    vowels = \"aeiouAEIOU\"\n",
    "    if char in vowels:\n",
    "        print(\"Vowel.\")\n",
    "    else:\n",
    "        print(\"Consonant.\")\n",
    "\n",
    "check_vowel_consonant('a')  # Example usage\n"
   ]
  },
  {
   "cell_type": "code",
   "execution_count": 6,
   "id": "23a52371-a3ac-4193-8671-ff2cd2d4a89d",
   "metadata": {},
   "outputs": [
    {
     "name": "stdout",
     "output_type": "stream",
     "text": [
      "Even number.\n"
     ]
    }
   ],
   "source": [
    "def check_even_odd(n):\n",
    "    if n % 2 == 0:\n",
    "        print(\"Even number.\")\n",
    "    else:\n",
    "        print(\"Odd number.\")\n",
    "\n",
    "check_even_odd(10)  # Example usage\n"
   ]
  },
  {
   "cell_type": "code",
   "execution_count": 7,
   "id": "32204808-5435-4db5-afa6-b4ca54b006f1",
   "metadata": {},
   "outputs": [
    {
     "name": "stdout",
     "output_type": "stream",
     "text": [
      "5\n"
     ]
    }
   ],
   "source": [
    "def absolute_value(n):\n",
    "    if n < 0:\n",
    "        return -n\n",
    "    else:\n",
    "        return n\n",
    "\n",
    "print(absolute_value(-5))  # Example usage\n"
   ]
  },
  {
   "cell_type": "code",
   "execution_count": 8,
   "id": "046c9399-65e1-4515-a1ab-71395b1f34d9",
   "metadata": {},
   "outputs": [
    {
     "name": "stdout",
     "output_type": "stream",
     "text": [
      "20\n"
     ]
    }
   ],
   "source": [
    "def max_of_three(a, b, c):\n",
    "    if a > b and a > c:\n",
    "        return a\n",
    "    elif b > c:\n",
    "        return b\n",
    "    else:\n",
    "        return c\n",
    "\n",
    "print(max_of_three(10, 20, 15))  # Example usage\n"
   ]
  },
  {
   "cell_type": "code",
   "execution_count": 9,
   "id": "ca7833c5-89dd-478e-b153-71ee2863e782",
   "metadata": {},
   "outputs": [
    {
     "name": "stdout",
     "output_type": "stream",
     "text": [
      "Not a palindrome.\n"
     ]
    }
   ],
   "source": [
    "def is_palindrome(s):\n",
    "    if s == s[::-1]:\n",
    "        print(\"Palindrome.\")\n",
    "    else:\n",
    "        print(\"Not a palindrome.\")\n",
    "\n",
    "is_palindrome(\"madonna\")  # Example usage\n"
   ]
  },
  {
   "cell_type": "code",
   "execution_count": 10,
   "id": "23402b1a-fa9f-4941-bf4b-b0d22a697731",
   "metadata": {},
   "outputs": [
    {
     "name": "stdout",
     "output_type": "stream",
     "text": [
      "B\n"
     ]
    }
   ],
   "source": [
    "def calculate_grade(score):\n",
    "    if score >= 90:\n",
    "        return \"A\"\n",
    "    elif score >= 80:\n",
    "        return \"B\"\n",
    "    elif score >= 70:\n",
    "        return \"C\"\n",
    "    elif score >= 60:\n",
    "        return \"D\"\n",
    "    else:\n",
    "        return \"F\"\n",
    "\n",
    "print(calculate_grade(85))  # Example usage\n"
   ]
  },
  {
   "cell_type": "code",
   "execution_count": 11,
   "id": "b38d5c82-47db-4a61-9593-301f6bd4a749",
   "metadata": {},
   "outputs": [
    {
     "name": "stdout",
     "output_type": "stream",
     "text": [
      "20\n"
     ]
    }
   ],
   "source": [
    "def largest_of_three(a, b, c):\n",
    "    if a >= b:\n",
    "        if a >= c:\n",
    "            return a\n",
    "        else:\n",
    "            return c\n",
    "    else:\n",
    "        if b >= c:\n",
    "            return b\n",
    "        else:\n",
    "            return c\n",
    "\n",
    "print(largest_of_three(10, 20, 15))  # Example usage\n"
   ]
  },
  {
   "cell_type": "code",
   "execution_count": 12,
   "id": "b69b30a0-3e18-4873-a617-49a71a932857",
   "metadata": {},
   "outputs": [
    {
     "name": "stdout",
     "output_type": "stream",
     "text": [
      "Equilateral triangle.\n"
     ]
    }
   ],
   "source": [
    "def classify_triangle(a, b, c):\n",
    "    if a == b == c:\n",
    "        print(\"Equilateral triangle.\")\n",
    "    elif a == b or b == c or a == c:\n",
    "        print(\"Isosceles triangle.\")\n",
    "    else:\n",
    "        print(\"Scalene triangle.\")\n",
    "\n",
    "classify_triangle(3, 3, 3)  # Example usage\n"
   ]
  },
  {
   "cell_type": "code",
   "execution_count": 13,
   "id": "bf119a57-7d1a-4770-87f8-cc4e99ed79a9",
   "metadata": {},
   "outputs": [
    {
     "name": "stdout",
     "output_type": "stream",
     "text": [
      "Leap year.\n",
      "Century year.\n"
     ]
    }
   ],
   "source": [
    "def check_year(year):\n",
    "    if (year % 4 == 0 and year % 100 != 0) or (year % 400 == 0):\n",
    "        print(\"Leap year.\")\n",
    "        if year % 100 == 0:\n",
    "            print(\"Century year.\")\n",
    "    else:\n",
    "        print(\"Not a leap year.\")\n",
    "\n",
    "check_year(2000)  # Example usage\n"
   ]
  },
  {
   "cell_type": "code",
   "execution_count": 14,
   "id": "b874ff19-63ac-4cdd-abb0-5369dbf9778c",
   "metadata": {},
   "outputs": [
    {
     "name": "stdout",
     "output_type": "stream",
     "text": [
      "Negative number.\n"
     ]
    }
   ],
   "source": [
    "def check_number(n):\n",
    "    if n > 0:\n",
    "        print(\"Positive number.\")\n",
    "    elif n < 0:\n",
    "        print(\"Negative number.\")\n",
    "    else:\n",
    "        print(\"Zero.\")\n",
    "\n",
    "check_number(-5)  # Example usage\n"
   ]
  },
  {
   "cell_type": "code",
   "execution_count": 15,
   "id": "51f07951-599d-445f-97d5-f8f52519559a",
   "metadata": {},
   "outputs": [
    {
     "name": "stdout",
     "output_type": "stream",
     "text": [
      "Teenager.\n"
     ]
    }
   ],
   "source": [
    "def is_teenager(age):\n",
    "    if 13 <= age <= 19:\n",
    "        print(\"Teenager.\")\n",
    "    else:\n",
    "        print(\"Not a teenager.\")\n",
    "\n",
    "is_teenager(15)  # Example usage\n"
   ]
  },
  {
   "cell_type": "code",
   "execution_count": 16,
   "id": "f57e5a6d-e0b1-46e6-9547-a9d6c9886976",
   "metadata": {},
   "outputs": [
    {
     "name": "stdout",
     "output_type": "stream",
     "text": [
      "Acute angle.\n"
     ]
    }
   ],
   "source": [
    "def classify_angle(angle):\n",
    "    if angle < 90:\n",
    "        print(\"Acute angle.\")\n",
    "    elif angle == 90:\n",
    "        print(\"Right angle.\")\n",
    "    else:\n",
    "        print(\"Obtuse angle.\")\n",
    "\n",
    "classify_angle(75)  # Example usage\n"
   ]
  },
  {
   "cell_type": "code",
   "execution_count": 17,
   "id": "91ac400d-7af5-43c0-a60a-739df464545e",
   "metadata": {},
   "outputs": [
    {
     "name": "stdout",
     "output_type": "stream",
     "text": [
      "Two real roots: 2.0 1.0\n"
     ]
    }
   ],
   "source": [
    "import math\n",
    "\n",
    "def quadratic_roots(a, b, c):\n",
    "    discriminant = b**2 - 4*a*c\n",
    "    if discriminant > 0:\n",
    "        root1 = (-b + math.sqrt(discriminant)) / (a * 2)\n",
    "        root2 = (-b - math.sqrt(discriminant)) / (a * 2)\n",
    "        print(\"Two real roots:\", root1, root2)\n",
    "    elif discriminant == 0:\n",
    "        root = -b / (2 * a)\n",
    "        print(\"One real root:\", root)\n",
    "    else:\n",
    "        real_part = -b / (2 * a)\n",
    "        imaginary_part = math.sqrt(-discriminant) / (2 * a)\n",
    "        print(\"Two complex roots:\", f\"{real_part} + {imaginary_part}i\", f\"{real_part} - {imaginary_part}i\")\n",
    "\n",
    "quadratic_roots(1, -3, 2)  # Example usage\n"
   ]
  },
  {
   "cell_type": "code",
   "execution_count": 18,
   "id": "e4f7761f-bd60-49a4-99ac-8bb6774214a5",
   "metadata": {},
   "outputs": [
    {
     "name": "stdout",
     "output_type": "stream",
     "text": [
      "Wednesday\n"
     ]
    }
   ],
   "source": [
    "def day_of_week(n):\n",
    "    days = [\"Monday\", \"Tuesday\", \"Wednesday\", \"Thursday\", \"Friday\", \"Saturday\", \"Sunday\"]\n",
    "    if 1 <= n <= 7:\n",
    "        print(days[n-1])\n",
    "    else:\n",
    "        print(\"Invalid number.\")\n",
    "\n",
    "day_of_week(3)  # Example usage\n"
   ]
  },
  {
   "cell_type": "code",
   "execution_count": 19,
   "id": "87939af2-cf49-4e69-ba4d-f6bd04b029ca",
   "metadata": {},
   "outputs": [
    {
     "name": "stdout",
     "output_type": "stream",
     "text": [
      "Leap year.\n",
      "Also divisible by 400.\n"
     ]
    }
   ],
   "source": [
    "def check_leap_and_divisible(year):\n",
    "    if (year % 4 == 0 and year % 100 != 0) or (year % 400 == 0):\n",
    "        print(\"Leap year.\")\n",
    "        if year % 400 == 0:\n",
    "            print(\"Also divisible by 400.\")\n",
    "    else:\n",
    "        print(\"Not a leap year.\")\n",
    "\n",
    "check_leap_and_divisible(2000)  # Example usage\n"
   ]
  },
  {
   "cell_type": "code",
   "execution_count": 20,
   "id": "325f2cd3-77c1-4eb3-8121-d3f41cf6bbd5",
   "metadata": {},
   "outputs": [
    {
     "name": "stdout",
     "output_type": "stream",
     "text": [
      "29 is a prime number.\n"
     ]
    }
   ],
   "source": [
    "def is_prime(n):\n",
    "    if n <= 1:\n",
    "        return False\n",
    "    else:\n",
    "        for i in range(2, int(n**0.5) + 1):\n",
    "            if n % i == 0:\n",
    "                return False\n",
    "        return True\n",
    "\n",
    "number = 29\n",
    "if is_prime(number):\n",
    "    print(number, \"is a prime number.\")\n",
    "else:\n",
    "    print(number, \"is not a prime number.\")\n"
   ]
  },
  {
   "cell_type": "code",
   "execution_count": 21,
   "id": "6db48aa2-e53c-4f39-acb5-fd7a11562be7",
   "metadata": {},
   "outputs": [
    {
     "name": "stdout",
     "output_type": "stream",
     "text": [
      "B\n"
     ]
    }
   ],
   "source": [
    "def assign_grade(score):\n",
    "    if score >= 90:\n",
    "        return \"A\"\n",
    "    elif score >= 80:\n",
    "        return \"B\"\n",
    "    elif score >= 70:\n",
    "        return \"C\"\n",
    "    elif score >= 60:\n",
    "        return \"D\"\n",
    "    else:\n",
    "        return \"F\"\n",
    "\n",
    "print(assign_grade(85))  # Example usage\n"
   ]
  },
  {
   "cell_type": "code",
   "execution_count": 22,
   "id": "34339e62-a98c-4639-b647-48a03f9d9964",
   "metadata": {},
   "outputs": [
    {
     "name": "stdout",
     "output_type": "stream",
     "text": [
      "Acute triangle.\n"
     ]
    }
   ],
   "source": [
    "def classify_triangle_by_angles(angle1, angle2, angle3):\n",
    "    if angle1 + angle2 + angle3 != 180:\n",
    "        print(\"Not a valid triangle.\")\n",
    "    elif angle1 == 90 or angle2 == 90 or angle3 == 90:\n",
    "        print(\"Right triangle.\")\n",
    "    elif angle1 > 90 or angle2 > 90 or angle3 > 90:\n",
    "        print(\"Obtuse triangle.\")\n",
    "    else:\n",
    "        print(\"Acute triangle.\")\n",
    "\n",
    "classify_triangle_by_angles(60, 60, 60)  # Example usage\n"
   ]
  },
  {
   "cell_type": "code",
   "execution_count": 23,
   "id": "c5c620a0-da6d-4d5f-a1d1-2c73d4f34756",
   "metadata": {},
   "outputs": [
    {
     "name": "stdout",
     "output_type": "stream",
     "text": [
      "Normal weight\n"
     ]
    }
   ],
   "source": [
    "def bmi_category(bmi):\n",
    "    if bmi < 18.5:\n",
    "        return \"Underweight\"\n",
    "    elif 18.5 <= bmi < 24.9:\n",
    "        return \"Normal weight\"\n",
    "    elif 25 <= bmi < 29.9:\n",
    "        return \"Overweight\"\n",
    "    else:\n",
    "        return \"Obese\"\n",
    "\n",
    "print(bmi_category(22))  # Example usage\n"
   ]
  },
  {
   "cell_type": "code",
   "execution_count": 24,
   "id": "d55b6f12-fd7d-4178-b7c5-02f1994d8a2a",
   "metadata": {},
   "outputs": [
    {
     "name": "stdout",
     "output_type": "stream",
     "text": [
      "Zero.\n"
     ]
    }
   ],
   "source": [
    "def check_number(n):\n",
    "    if n > 0:\n",
    "        print(\"Positive number.\")\n",
    "    elif n < 0:\n",
    "        print(\"Negative number.\")\n",
    "    else:\n",
    "        print(\"Zero.\")\n",
    "\n",
    "check_number(0)  # Example usage\n"
   ]
  },
  {
   "cell_type": "code",
   "execution_count": 25,
   "id": "e9b2d0f0-705d-431d-bfeb-30ed219b96e4",
   "metadata": {},
   "outputs": [
    {
     "name": "stdout",
     "output_type": "stream",
     "text": [
      "Uppercase letter.\n"
     ]
    }
   ],
   "source": [
    "def char_type(char):\n",
    "    if char.isupper():\n",
    "        print(\"Uppercase letter.\")\n",
    "    elif char.islower():\n",
    "        print(\"Lowercase letter.\")\n",
    "    else:\n",
    "        print(\"Special character.\")\n",
    "\n",
    "char_type('A')  # Example usage\n"
   ]
  },
  {
   "cell_type": "code",
   "execution_count": 26,
   "id": "075e4173-cd7c-4fef-8ae8-7559fc9f5886",
   "metadata": {},
   "outputs": [
    {
     "name": "stdout",
     "output_type": "stream",
     "text": [
      "1080.0\n"
     ]
    }
   ],
   "source": [
    "def discounted_price(amount):\n",
    "    if amount > 1000:\n",
    "        discount = 0.10\n",
    "    elif amount > 500:\n",
    "        discount = 0.05\n",
    "    else:\n",
    "        discount = 0.02\n",
    "    return amount * (1 - discount)\n",
    "\n",
    "print(discounted_price(1200))  # Example usage\n"
   ]
  },
  {
   "cell_type": "code",
   "execution_count": 27,
   "id": "8444c096-451c-4d98-90d4-45b737ab6466",
   "metadata": {},
   "outputs": [
    {
     "name": "stdout",
     "output_type": "stream",
     "text": [
      "320.0\n"
     ]
    }
   ],
   "source": [
    "def electricity_bill(units):\n",
    "    if units <= 100:\n",
    "        cost = units * 0.5\n",
    "    elif units <= 200:\n",
    "        cost = (100 * 0.5) + ((units - 100) * 0.75)\n",
    "    elif units <= 300:\n",
    "        cost = (100 * 0.5) + (100 * 0.75) + ((units - 200) * 1.20)\n",
    "    else:\n",
    "        cost = (100 * 0.5) + (100 * 0.75) + (100 * 1.20) + ((units - 300) * 1.50)\n",
    "    return cost\n",
    "\n",
    "print(electricity_bill(350))  # Example usage\n"
   ]
  },
  {
   "cell_type": "code",
   "execution_count": 28,
   "id": "86eddc97-6a93-45ae-8738-fb013e120e1e",
   "metadata": {},
   "outputs": [
    {
     "name": "stdout",
     "output_type": "stream",
     "text": [
      "Square.\n"
     ]
    }
   ],
   "source": [
    "def classify_quadrilateral(a, b, c, d, angle1, angle2, angle3, angle4):\n",
    "    if angle1 + angle2 + angle3 + angle4 != 360:\n",
    "        print(\"Not a valid quadrilateral.\")\n",
    "    elif a == b == c == d and angle1 == angle2 == angle3 == angle4 == 90:\n",
    "        print(\"Square.\")\n",
    "    elif a == c and b == d and angle1 == angle2 == angle3 == angle4 == 90:\n",
    "        print(\"Rectangle.\")\n",
    "    elif a == c and b == d:\n",
    "        print(\"Parallelogram.\")\n",
    "    else:\n",
    "        print(\"Other quadrilateral.\")\n",
    "\n",
    "classify_quadrilateral(5, 5, 5, 5, 90, 90, 90, 90)  # Example usage\n"
   ]
  },
  {
   "cell_type": "code",
   "execution_count": 29,
   "id": "822983ae-cb2b-4f9a-b7d2-f6b4a36d7343",
   "metadata": {},
   "outputs": [
    {
     "name": "stdout",
     "output_type": "stream",
     "text": [
      "Spring\n"
     ]
    }
   ],
   "source": [
    "def determine_season(month):\n",
    "    if month in [12, 1, 2]:\n",
    "        print(\"Winter\")\n",
    "    elif month in [3, 4, 5]:\n",
    "        print(\"Spring\")\n",
    "    elif month in [6, 7, 8]:\n",
    "        print(\"Summer\")\n",
    "    elif month in [9, 10, 11]:\n",
    "        print(\"Autumn\")\n",
    "    else:\n",
    "        print(\"Invalid month\")\n",
    "\n",
    "determine_season(5)  # Example usage\n"
   ]
  },
  {
   "cell_type": "code",
   "execution_count": 30,
   "id": "8176b0fb-7d22-46c1-9da4-54ead081f768",
   "metadata": {},
   "outputs": [
    {
     "name": "stdout",
     "output_type": "stream",
     "text": [
      "2024 is a Leap year.\n",
      "Month 2 has 29 days.\n"
     ]
    }
   ],
   "source": [
    "def year_and_month_info(year, month):\n",
    "    if (year % 4 == 0 and year % 100 != 0) or (year % 400 == 0):\n",
    "        year_type = \"Leap year\"\n",
    "    else:\n",
    "        year_type = \"Common year\"\n",
    "\n",
    "    if month in [1, 3, 5, 7, 8, 10, 12]:\n",
    "        month_days = 31\n",
    "    elif month == 2:\n",
    "        month_days = 29 if year_type == \"Leap year\" else 28\n",
    "    elif month in [4, 6, 9, 11]:\n",
    "        month_days = 30\n",
    "    else:\n",
    "        month_days = \"Invalid month\"\n",
    "\n",
    "    print(f\"{year} is a {year_type}.\")\n",
    "    print(f\"Month {month} has {month_days} days.\")\n",
    "\n",
    "year_and_month_info(2024, 2)  # Example usage\n"
   ]
  },
  {
   "cell_type": "code",
   "execution_count": 31,
   "id": "2e302700-a732-4658-9c41-8ec83b27d9a2",
   "metadata": {},
   "outputs": [
    {
     "name": "stdout",
     "output_type": "stream",
     "text": [
      "Positive\n",
      "Negative\n",
      "Zero\n"
     ]
    }
   ],
   "source": [
    "def check_number(n):\n",
    "    if n > 0:\n",
    "        return \"Positive\"\n",
    "    elif n < 0:\n",
    "        return \"Negative\"\n",
    "    else:\n",
    "        return \"Zero\"\n",
    "\n",
    "print(check_number(10))  # Example usage\n",
    "print(check_number(-5))\n",
    "print(check_number(0))"
   ]
  },
  {
   "cell_type": "code",
   "execution_count": 32,
   "id": "52ee8630-54dd-4b09-89be-b65edd15245e",
   "metadata": {},
   "outputs": [
    {
     "name": "stdout",
     "output_type": "stream",
     "text": [
      "Eligible to vote\n",
      "Not eligible to vote\n"
     ]
    }
   ],
   "source": [
    "def can_vote(age):\n",
    "    return \"Eligible to vote\" if age >= 18 else \"Not eligible to vote\"\n",
    "\n",
    "print(can_vote(20))  # Example usage\n",
    "print(can_vote(16))\n"
   ]
  },
  {
   "cell_type": "code",
   "execution_count": 33,
   "id": "adf49543-eee7-4cb5-b063-4ec75ad8066b",
   "metadata": {},
   "outputs": [
    {
     "name": "stdout",
     "output_type": "stream",
     "text": [
      "20\n",
      "30\n"
     ]
    }
   ],
   "source": [
    "def max_of_two(a, b):\n",
    "    return a if a > b else b\n",
    "\n",
    "print(max_of_two(10, 20))  # Example usage\n",
    "print(max_of_two(30, 20))\n"
   ]
  },
  {
   "cell_type": "code",
   "execution_count": 34,
   "id": "47d26490-a3da-442b-8471-31623e7398af",
   "metadata": {},
   "outputs": [
    {
     "name": "stdout",
     "output_type": "stream",
     "text": [
      "B\n",
      "F\n"
     ]
    }
   ],
   "source": [
    "def calculate_grade(score):\n",
    "    if score >= 90:\n",
    "        return \"A\"\n",
    "    elif score >= 80:\n",
    "        return \"B\"\n",
    "    elif score >= 70:\n",
    "        return \"C\"\n",
    "    elif score >= 60:\n",
    "        return \"D\"\n",
    "    else:\n",
    "        return \"F\"\n",
    "\n",
    "print(calculate_grade(85))  # Example usage\n",
    "print(calculate_grade(55))\n"
   ]
  },
  {
   "cell_type": "code",
   "execution_count": 35,
   "id": "7cbc1a43-5d1a-4b27-ac94-8fc35642406e",
   "metadata": {},
   "outputs": [
    {
     "name": "stdout",
     "output_type": "stream",
     "text": [
      "Leap year\n",
      "Not a leap year\n"
     ]
    }
   ],
   "source": [
    "def is_leap_year(year):\n",
    "    if (year % 4 == 0 and year % 100 != 0) or (year % 400 == 0):\n",
    "        return \"Leap year\"\n",
    "    else:\n",
    "        return \"Not a leap year\"\n",
    "\n",
    "print(is_leap_year(2020))  # Example usage\n",
    "print(is_leap_year(2021))\n"
   ]
  },
  {
   "cell_type": "code",
   "execution_count": 36,
   "id": "ba5de932-7705-4c23-b487-42c43df6d668",
   "metadata": {},
   "outputs": [
    {
     "name": "stdout",
     "output_type": "stream",
     "text": [
      "Equilateral triangle\n",
      "Isosceles triangle\n",
      "Scalene triangle\n"
     ]
    }
   ],
   "source": [
    "def classify_triangle(a, b, c):\n",
    "    if a == b == c:\n",
    "        return \"Equilateral triangle\"\n",
    "    elif a == b or b == c or a == c:\n",
    "        return \"Isosceles triangle\"\n",
    "    else:\n",
    "        return \"Scalene triangle\"\n",
    "\n",
    "print(classify_triangle(3, 3, 3))  # Example usage\n",
    "print(classify_triangle(3, 4, 4))\n",
    "print(classify_triangle(3, 4, 5))\n"
   ]
  },
  {
   "cell_type": "code",
   "execution_count": 37,
   "id": "5c92bb1b-5738-4b50-9ee5-463855e591d3",
   "metadata": {},
   "outputs": [
    {
     "name": "stdout",
     "output_type": "stream",
     "text": [
      "30\n",
      "30\n",
      "30\n"
     ]
    }
   ],
   "source": [
    "def largest_of_three(a, b, c):\n",
    "    if a >= b and a >= c:\n",
    "        return a\n",
    "    elif b >= a and b >= c:\n",
    "        return b\n",
    "    else:\n",
    "        return c\n",
    "\n",
    "print(largest_of_three(10, 20, 30))  # Example usage\n",
    "print(largest_of_three(30, 20, 10))\n",
    "print(largest_of_three(10, 30, 20))\n"
   ]
  },
  {
   "cell_type": "code",
   "execution_count": 38,
   "id": "35538e92-8b12-46ad-a1ae-c121daced378",
   "metadata": {},
   "outputs": [
    {
     "name": "stdout",
     "output_type": "stream",
     "text": [
      "Vowel\n",
      "Consonant\n"
     ]
    }
   ],
   "source": [
    "def check_vowel_consonant(char):\n",
    "    vowels = \"aeiouAEIOU\"\n",
    "    return \"Vowel\" if char in vowels else \"Consonant\"\n",
    "\n",
    "print(check_vowel_consonant('a'))  # Example usage\n",
    "print(check_vowel_consonant('b'))\n"
   ]
  },
  {
   "cell_type": "code",
   "execution_count": 39,
   "id": "54f34a2e-bbdb-49a4-9d0a-cddbbc80e5c6",
   "metadata": {},
   "outputs": [
    {
     "name": "stdout",
     "output_type": "stream",
     "text": [
      "950.0\n",
      "990.0\n"
     ]
    }
   ],
   "source": [
    "def calculate_total(cart):\n",
    "    total = sum(cart)\n",
    "    if total > 1000:\n",
    "        discount = 0.10\n",
    "    elif total > 500:\n",
    "        discount = 0.05\n",
    "    else:\n",
    "        discount = 0.02\n",
    "    return total * (1 - discount)\n",
    "\n",
    "print(calculate_total([100, 200, 300, 400]))  # Example usage\n",
    "print(calculate_total([200, 300, 600]))\n"
   ]
  },
  {
   "cell_type": "code",
   "execution_count": 40,
   "id": "c96d5467-e56e-49dc-87e1-e09aee8ced1d",
   "metadata": {},
   "outputs": [
    {
     "name": "stdout",
     "output_type": "stream",
     "text": [
      "Even\n",
      "Odd\n"
     ]
    }
   ],
   "source": [
    "def check_even_odd(n):\n",
    "    return \"Even\" if n % 2 == 0 else \"Odd\"\n",
    "\n",
    "print(check_even_odd(10))  # Example usage\n",
    "print(check_even_odd(15))\n"
   ]
  },
  {
   "cell_type": "code",
   "execution_count": 41,
   "id": "6af119b7-2e59-48f4-8599-e3ec530a2bb5",
   "metadata": {},
   "outputs": [
    {
     "name": "stdout",
     "output_type": "stream",
     "text": [
      "Positive number.\n"
     ]
    }
   ],
   "source": [
    "def check_number(n):\n",
    "    if n > 0:\n",
    "        return \"Positive number.\"\n",
    "    elif n < 0:\n",
    "        return \"Negative number.\"\n",
    "    else:\n",
    "        return \"Zero.\"\n",
    "\n",
    "print(check_number(10))  # Example usage\n"
   ]
  },
  {
   "cell_type": "code",
   "execution_count": 42,
   "id": "f84543e8-d176-4ed7-a2a7-59e59bc90540",
   "metadata": {},
   "outputs": [
    {
     "name": "stdout",
     "output_type": "stream",
     "text": [
      "Wednesday\n"
     ]
    }
   ],
   "source": [
    "def day_of_week(day_num):\n",
    "    days = [\"Monday\", \"Tuesday\", \"Wednesday\", \"Thursday\", \"Friday\", \"Saturday\", \"Sunday\"]\n",
    "    if 1 <= day_num <= 7:\n",
    "        return days[day_num - 1]\n",
    "    else:\n",
    "        return \"Invalid day number.\"\n",
    "\n",
    "print(day_of_week(3))  # Example usage\n"
   ]
  },
  {
   "cell_type": "code",
   "execution_count": 43,
   "id": "f1824e44-cbd8-4c70-8bd6-c93b2abf0d22",
   "metadata": {},
   "outputs": [
    {
     "name": "stdout",
     "output_type": "stream",
     "text": [
      "Wednesday\n"
     ]
    }
   ],
   "source": [
    "def day_of_week(day_num):\n",
    "    days = [\"Monday\", \"Tuesday\", \"Wednesday\", \"Thursday\", \"Friday\", \"Saturday\", \"Sunday\"]\n",
    "    if 1 <= day_num <= 7:\n",
    "        return days[day_num - 1]\n",
    "    else:\n",
    "        return \"Invalid day number.\"\n",
    "\n",
    "print(day_of_week(3))  # Example usage\n"
   ]
  },
  {
   "cell_type": "code",
   "execution_count": 44,
   "id": "e7c51279-612e-45ec-b406-79f8155284de",
   "metadata": {},
   "outputs": [
    {
     "name": "stdout",
     "output_type": "stream",
     "text": [
      "20\n"
     ]
    }
   ],
   "source": [
    "def largest_of_three(a, b, c):\n",
    "    if a >= b and a >= c:\n",
    "        return a\n",
    "    elif b >= a and b >= c:\n",
    "        return b\n",
    "    else:\n",
    "        return c\n",
    "\n",
    "print(largest_of_three(10, 20, 15))  # Example usage\n"
   ]
  },
  {
   "cell_type": "code",
   "execution_count": 45,
   "id": "d08f0920-81b7-4756-a865-e0fcaa5623d8",
   "metadata": {},
   "outputs": [
    {
     "name": "stdout",
     "output_type": "stream",
     "text": [
      "\n",
      "ATM Menu:\n",
      "1. Check Balance\n",
      "2. Deposit\n",
      "3. Withdraw\n",
      "4. Exit\n"
     ]
    },
    {
     "name": "stdin",
     "output_type": "stream",
     "text": [
      "Enter choice:  Exit\n"
     ]
    },
    {
     "ename": "ValueError",
     "evalue": "invalid literal for int() with base 10: 'Exit'",
     "output_type": "error",
     "traceback": [
      "\u001b[0;31m---------------------------------------------------------------------------\u001b[0m",
      "\u001b[0;31mValueError\u001b[0m                                Traceback (most recent call last)",
      "Cell \u001b[0;32mIn[45], line 30\u001b[0m\n\u001b[1;32m     27\u001b[0m         \u001b[38;5;28;01melse\u001b[39;00m:\n\u001b[1;32m     28\u001b[0m             \u001b[38;5;28mprint\u001b[39m(\u001b[38;5;124m\"\u001b[39m\u001b[38;5;124mInvalid choice\u001b[39m\u001b[38;5;124m\"\u001b[39m)\n\u001b[0;32m---> 30\u001b[0m \u001b[43matm_menu\u001b[49m\u001b[43m(\u001b[49m\u001b[43m)\u001b[49m  \u001b[38;5;66;03m# Example usage\u001b[39;00m\n",
      "Cell \u001b[0;32mIn[45], line 9\u001b[0m, in \u001b[0;36matm_menu\u001b[0;34m()\u001b[0m\n\u001b[1;32m      7\u001b[0m \u001b[38;5;28mprint\u001b[39m(\u001b[38;5;124m\"\u001b[39m\u001b[38;5;124m3. Withdraw\u001b[39m\u001b[38;5;124m\"\u001b[39m)\n\u001b[1;32m      8\u001b[0m \u001b[38;5;28mprint\u001b[39m(\u001b[38;5;124m\"\u001b[39m\u001b[38;5;124m4. Exit\u001b[39m\u001b[38;5;124m\"\u001b[39m)\n\u001b[0;32m----> 9\u001b[0m choice \u001b[38;5;241m=\u001b[39m \u001b[38;5;28;43mint\u001b[39;49m\u001b[43m(\u001b[49m\u001b[38;5;28;43minput\u001b[39;49m\u001b[43m(\u001b[49m\u001b[38;5;124;43m\"\u001b[39;49m\u001b[38;5;124;43mEnter choice: \u001b[39;49m\u001b[38;5;124;43m\"\u001b[39;49m\u001b[43m)\u001b[49m\u001b[43m)\u001b[49m\n\u001b[1;32m     11\u001b[0m \u001b[38;5;28;01mif\u001b[39;00m choice \u001b[38;5;241m==\u001b[39m \u001b[38;5;241m1\u001b[39m:\n\u001b[1;32m     12\u001b[0m     \u001b[38;5;28mprint\u001b[39m(\u001b[38;5;124m\"\u001b[39m\u001b[38;5;124mCurrent Balance: $\u001b[39m\u001b[38;5;124m\"\u001b[39m, balance)\n",
      "\u001b[0;31mValueError\u001b[0m: invalid literal for int() with base 10: 'Exit'"
     ]
    }
   ],
   "source": [
    "def atm_menu():\n",
    "    balance = 1000\n",
    "    while True:\n",
    "        print(\"\\nATM Menu:\")\n",
    "        print(\"1. Check Balance\")\n",
    "        print(\"2. Deposit\")\n",
    "        print(\"3. Withdraw\")\n",
    "        print(\"4. Exit\")\n",
    "        choice = int(input(\"Enter choice: \"))\n",
    "        \n",
    "        if choice == 1:\n",
    "            print(\"Current Balance: $\", balance)\n",
    "        elif choice == 2:\n",
    "            deposit = float(input(\"Enter amount to deposit: \"))\n",
    "            balance += deposit\n",
    "            print(\"Deposited $\", deposit)\n",
    "        elif choice == 3:\n",
    "            withdraw = float(input(\"Enter amount to withdraw: \"))\n",
    "            if withdraw <= balance:\n",
    "                balance -= withdraw\n",
    "                print(\"Withdrew $\", withdraw)\n",
    "            else:\n",
    "                print(\"Insufficient balance\")\n",
    "        elif choice == 4:\n",
    "            print(\"Exiting ATM. Goodbye!\")\n",
    "            break\n",
    "        else:\n",
    "            print(\"Invalid choice\")\n",
    "\n",
    "atm_menu()  # Example usage\n"
   ]
  },
  {
   "cell_type": "code",
   "execution_count": 46,
   "id": "2bea229f-7d81-4b9b-aeb7-0db5557a43bb",
   "metadata": {},
   "outputs": [
    {
     "name": "stdout",
     "output_type": "stream",
     "text": [
      "Palindrome.\n"
     ]
    }
   ],
   "source": [
    "def is_palindrome(s):\n",
    "    if s == s[::-1]:\n",
    "        return \"Palindrome.\"\n",
    "    else:\n",
    "        return \"Not a palindrome.\"\n",
    "\n",
    "print(is_palindrome(\"madam\"))\n"
   ]
  },
  {
   "cell_type": "code",
   "execution_count": 47,
   "id": "1b4eba46-ce36-471d-a6ab-8d611931d16f",
   "metadata": {},
   "outputs": [
    {
     "name": "stdout",
     "output_type": "stream",
     "text": [
      "77.0\n"
     ]
    }
   ],
   "source": [
    "def celsius_to_fahrenheit(celsius):\n",
    "    return (celsius * 9/5) + 32\n",
    "\n",
    "print(celsius_to_fahrenheit(25))  # Example usage\n"
   ]
  },
  {
   "cell_type": "code",
   "execution_count": 48,
   "id": "b1964d85-0be8-4a48-a0b1-d9e1b077a035",
   "metadata": {},
   "outputs": [
    {
     "name": "stdout",
     "output_type": "stream",
     "text": [
      "15\n"
     ]
    }
   ],
   "source": [
    "def calculator(a, b, operation):\n",
    "    if operation == 'add':\n",
    "        return a + b\n",
    "    elif operation == 'subtract':\n",
    "        return a - b\n",
    "    elif operation == 'multiply':\n",
    "        return a * b\n",
    "    elif operation == 'divide':\n",
    "        if b != 0:\n",
    "            return a / b\n",
    "        else:\n",
    "            return \"Error! Division by zero.\"\n",
    "    else:\n",
    "        return \"Invalid operation.\"\n",
    "\n",
    "print(calculator(10, 5, 'add'))  # Example usage\n"
   ]
  },
  {
   "cell_type": "code",
   "execution_count": 49,
   "id": "de17a7c7-7268-4075-93da-cf3187327f99",
   "metadata": {},
   "outputs": [
    {
     "name": "stdout",
     "output_type": "stream",
     "text": [
      "None\n"
     ]
    }
   ],
   "source": [
    "# Example structure\n",
    "def cubic_roots(a, b, c, d):\n",
    "    # Cardano's method implementation here\n",
    "    pass\n",
    "\n",
    "# Example usage\n",
    "print(cubic_roots(1, -6, 11, -6))\n"
   ]
  },
  {
   "cell_type": "code",
   "execution_count": 50,
   "id": "149691aa-fc67-4a63-ba81-ec2cffa6e758",
   "metadata": {},
   "outputs": [
    {
     "name": "stdout",
     "output_type": "stream",
     "text": [
      "8500.0\n"
     ]
    }
   ],
   "source": [
    "def calculate_tax(income):\n",
    "    if income <= 10000:\n",
    "        tax = 0\n",
    "    elif income <= 20000:\n",
    "        tax = (income - 10000) * 0.1\n",
    "    elif income <= 50000:\n",
    "        tax = (10000 * 0) + (10000 * 0.1) + (income - 20000) * 0.2\n",
    "    else:\n",
    "        tax = (10000 * 0) + (10000 * 0.1) + (30000 * 0.2) + (income - 50000) * 0.3\n",
    "    return tax\n",
    "\n",
    "print(calculate_tax(55000))  # Example usage\n"
   ]
  },
  {
   "cell_type": "code",
   "execution_count": 51,
   "id": "a45c5c00-6691-47a5-a898-3e46c68deaf2",
   "metadata": {},
   "outputs": [
    {
     "name": "stdout",
     "output_type": "stream",
     "text": [
      "Computer chose: scissors\n",
      "You win!\n"
     ]
    }
   ],
   "source": [
    "import random\n",
    "\n",
    "def rock_paper_scissors(player_choice):\n",
    "    choices = [\"rock\", \"paper\", \"scissors\"]\n",
    "    computer_choice = random.choice(choices)\n",
    "    print(\"Computer chose:\", computer_choice)\n",
    "    \n",
    "    if player_choice == computer_choice:\n",
    "        return \"It's a tie!\"\n",
    "    elif (player_choice == \"rock\" and computer_choice == \"scissors\") or \\\n",
    "         (player_choice == \"paper\" and computer_choice == \"rock\") or \\\n",
    "         (player_choice == \"scissors\" and computer_choice == \"paper\"):\n",
    "        return \"You win!\"\n",
    "    else:\n",
    "        return \"You lose!\"\n",
    "\n",
    "print(rock_paper_scissors(\"rock\"))  # Example usage\n"
   ]
  },
  {
   "cell_type": "code",
   "execution_count": 52,
   "id": "aedf9e54-f2f7-475d-897a-6635aa24e99e",
   "metadata": {},
   "outputs": [
    {
     "name": "stdout",
     "output_type": "stream",
     "text": [
      "?y=RBDIezDX0\n"
     ]
    }
   ],
   "source": [
    "import random\n",
    "import string\n",
    "\n",
    "def generate_password(length=8, complexity=1):\n",
    "    characters = string.ascii_letters + string.digits\n",
    "    if complexity == 2:\n",
    "        characters += string.punctuation\n",
    "    return ''.join(random.choice(characters) for i in range(length))\n",
    "\n",
    "print(generate_password(12, 2))  # Example usage\n"
   ]
  },
  {
   "cell_type": "code",
   "execution_count": 53,
   "id": "4d842109-95ef-4386-85aa-6c4f1e8b3d38",
   "metadata": {},
   "outputs": [
    {
     "name": "stdout",
     "output_type": "stream",
     "text": [
      "Welcome to the adventure game!\n",
      "You are in a dark forest. You see a path ahead.\n"
     ]
    },
    {
     "name": "stdin",
     "output_type": "stream",
     "text": [
      "Do you want to take the path? (yes/no):  yes\n"
     ]
    },
    {
     "name": "stdout",
     "output_type": "stream",
     "text": [
      "You follow the path and encounter a wild animal.\n"
     ]
    },
    {
     "name": "stdin",
     "output_type": "stream",
     "text": [
      "Do you want to run or fight? (run/fight):  run\n"
     ]
    },
    {
     "name": "stdout",
     "output_type": "stream",
     "text": [
      "You successfully escaped!\n"
     ]
    }
   ],
   "source": [
    "def adventure_game():\n",
    "    print(\"Welcome to the adventure game!\")\n",
    "    print(\"You are in a dark forest. You see a path ahead.\")\n",
    "    choice1 = input(\"Do you want to take the path? (yes/no): \").lower()\n",
    "    \n",
    "    if choice1 == \"yes\":\n",
    "        print(\"You follow the path and encounter a wild animal.\")\n",
    "        choice2 = input(\"Do you want to run or fight? (run/fight): \").lower()\n",
    "        if choice2 == \"run\":\n",
    "            print(\"You successfully escaped!\")\n",
    "        elif choice2 == \"fight\":\n",
    "            print(\"You fought bravely and defeated the animal!\")\n",
    "        else:\n",
    "            print(\"Invalid choice, the animal attacks you!\")\n",
    "    elif choice1 == \"no\":\n",
    "        print(\"You stay in the forest and get lost.\")\n",
    "    else:\n",
    "        print(\"Invalid choice, you remain in the forest.\")\n",
    "\n",
    "adventure_game()  # Example usage\n"
   ]
  },
  {
   "cell_type": "code",
   "execution_count": 54,
   "id": "14ab13da-cdf2-4f23-98e0-063b970d2563",
   "metadata": {},
   "outputs": [
    {
     "name": "stdout",
     "output_type": "stream",
     "text": [
      "2.0\n"
     ]
    }
   ],
   "source": [
    "def solve_linear_equation(a, b):\n",
    "    if a == 0:\n",
    "        if b == 0:\n",
    "            return \"Infinite solutions\"\n",
    "        else:\n",
    "            return \"No solution\"\n",
    "    else:\n",
    "        return -b / a\n",
    "\n",
    "print(solve_linear_equation(2, -4))  # Example usage\n"
   ]
  },
  {
   "cell_type": "code",
   "execution_count": 55,
   "id": "fac8adce-dd72-4717-bda3-f568806b1d8e",
   "metadata": {},
   "outputs": [
    {
     "name": "stdout",
     "output_type": "stream",
     "text": [
      "What is the capital of France?\n",
      "a. Paris\n",
      "b. London\n",
      "c. Rome\n"
     ]
    },
    {
     "name": "stdin",
     "output_type": "stream",
     "text": [
      "Enter your answer:  rome\n"
     ]
    },
    {
     "name": "stdout",
     "output_type": "stream",
     "text": [
      "Wrong!\n",
      "What is 2 + 2?\n",
      "a. 3\n",
      "b. 4\n",
      "c. 5\n"
     ]
    },
    {
     "name": "stdin",
     "output_type": "stream",
     "text": [
      "Enter your answer:  5\n"
     ]
    },
    {
     "name": "stdout",
     "output_type": "stream",
     "text": [
      "Wrong!\n",
      "What is the color of the sky?\n",
      "a. Green\n",
      "b. Red\n",
      "c. Blue\n"
     ]
    },
    {
     "name": "stdin",
     "output_type": "stream",
     "text": [
      "Enter your answer:  blue\n"
     ]
    },
    {
     "name": "stdout",
     "output_type": "stream",
     "text": [
      "Wrong!\n",
      "Your score is: 0\n"
     ]
    }
   ],
   "source": [
    "def quiz_game():\n",
    "    questions = {\n",
    "        \"What is the capital of France?\": \"a\",\n",
    "        \"What is 2 + 2?\": \"b\",\n",
    "        \"What is the color of the sky?\": \"c\"\n",
    "    }\n",
    "    options = [\n",
    "        [\"a. Paris\", \"b. London\", \"c. Rome\"],\n",
    "        [\"a. 3\", \"b. 4\", \"c. 5\"],\n",
    "        [\"a. Green\", \"b. Red\", \"c. Blue\"]\n",
    "    ]\n",
    "    score = 0\n",
    "    \n",
    "    for i, question in enumerate(questions):\n",
    "        print(question)\n",
    "        for option in options[i]:\n",
    "            print(option)\n",
    "        answer = input(\"Enter your answer: \").lower()\n",
    "        if answer == list(questions.values())[i]:\n",
    "            score += 1\n",
    "            print(\"Correct!\")\n",
    "        else:\n",
    "            print(\"Wrong!\")\n",
    "    \n",
    "    print(\"Your score is:\", score)\n",
    "\n",
    "quiz_game()  # Example usage\n"
   ]
  },
  {
   "cell_type": "code",
   "execution_count": 56,
   "id": "49b12cd3-a4da-4d75-88c2-18b18397c782",
   "metadata": {},
   "outputs": [
    {
     "name": "stdout",
     "output_type": "stream",
     "text": [
      "False\n"
     ]
    }
   ],
   "source": [
    "def is_prime_year(year):\n",
    "    if year <= 1:\n",
    "        return False\n",
    "    for i in range(2, int(year ** 0.5) + 1):\n",
    "        if year % i == 0:\n",
    "            return False\n",
    "    return True\n",
    "\n",
    "print(is_prime_year(2023))  # Example usage\n"
   ]
  },
  {
   "cell_type": "code",
   "execution_count": 57,
   "id": "b0fffc9b-5482-401f-9a6c-c1f425a43456",
   "metadata": {},
   "outputs": [
    {
     "name": "stdout",
     "output_type": "stream",
     "text": [
      "(1, 2, 3)\n"
     ]
    }
   ],
   "source": [
    "def sort_three_numbers(a, b, c):\n",
    "    if a > b:\n",
    "        a, b = b, a\n",
    "    if a > c:\n",
    "        a, c = c, a\n",
    "    if b > c:\n",
    "        b, c = c, b\n",
    "    return a, b, c\n",
    "\n",
    "print(sort_three_numbers(3, 1, 2))  # Example usage\n"
   ]
  },
  {
   "cell_type": "code",
   "execution_count": 58,
   "id": "5f4e06f3-2e72-408a-b076-e087fba3cd95",
   "metadata": {},
   "outputs": [
    {
     "name": "stdout",
     "output_type": "stream",
     "text": [
      "None\n"
     ]
    }
   ],
   "source": [
    "# Numerical methods for solving quartic equations are quite complex and usually require specialized libraries.\n",
    "# Here is a simple placeholder function:\n",
    "def quartic_roots(a, b, c, d, e):\n",
    "    pass\n",
    "\n",
    "print(quartic_roots(1, -10, 35, -50, 24))  # Example usage\n"
   ]
  },
  {
   "cell_type": "code",
   "execution_count": 59,
   "id": "4fced2b1-aed1-4d29-b118-24b3fff9458c",
   "metadata": {},
   "outputs": [
    {
     "name": "stdout",
     "output_type": "stream",
     "text": [
      "(22.857142857142858, 'Normal weight')\n"
     ]
    }
   ],
   "source": [
    "def calculate_bmi(weight, height):\n",
    "    bmi = weight / (height ** 2)\n",
    "    if bmi < 18.5:\n",
    "        category = \"Underweight\"\n",
    "    elif 18.5 <= bmi < 24.9:\n",
    "        category = \"Normal weight\"\n",
    "    elif 25 <= bmi < 29.9:\n",
    "        category = \"Overweight\"\n",
    "    else:\n",
    "        category = \"Obese\"\n",
    "    return bmi, category\n",
    "\n",
    "print(calculate_bmi(70, 1.75))  # Example usage\n"
   ]
  },
  {
   "cell_type": "code",
   "execution_count": 60,
   "id": "8a9bc32a-7b1e-4f6f-a8a0-4006c5295095",
   "metadata": {},
   "outputs": [
    {
     "name": "stdout",
     "output_type": "stream",
     "text": [
      "Password is valid\n"
     ]
    }
   ],
   "source": [
    "def validate_password(password):\n",
    "    import re\n",
    "    if len(password) < 8:\n",
    "        return \"Password too short\"\n",
    "    if not re.search(\"[a-z]\", password):\n",
    "        return \"Password must contain a lowercase letter\"\n",
    "    if not re.search(\"[A-Z]\", password):\n",
    "        return \"Password must contain an uppercase letter\"\n",
    "    if not re.search(\"[0-9]\", password):\n",
    "        return \"Password must contain a digit\"\n",
    "    if not re.search(\"[@#$%^&+=]\", password):\n",
    "        return \"Password must contain a special character\"\n",
    "    return \"Password is valid\"\n",
    "\n",
    "print(validate_password(\"Aa1@1234\"))  # Example usage\n"
   ]
  },
  {
   "cell_type": "code",
   "execution_count": 61,
   "id": "90fd4f54-d878-4b8e-96c6-6979730ac7ce",
   "metadata": {},
   "outputs": [
    {
     "name": "stdout",
     "output_type": "stream",
     "text": [
      "[[6, 8], [10, 12]]\n"
     ]
    }
   ],
   "source": [
    "def matrix_addition_subtraction(matrix1, matrix2, operation):\n",
    "    result = []\n",
    "    for i in range(len(matrix1)):\n",
    "        row = []\n",
    "        for j in range(len(matrix1[0])):\n",
    "            if operation == 'add':\n",
    "                row.append(matrix1[i][j] + matrix2[i][j])\n",
    "            elif operation == 'subtract':\n",
    "                row.append(matrix1[i][j] - matrix2[i][j])\n",
    "        result.append(row)\n",
    "    return result\n",
    "\n",
    "matrix1 = [[1, 2], [3, 4]]\n",
    "matrix2 = [[5, 6], [7, 8]]\n",
    "print(matrix_addition_subtraction(matrix1, matrix2, 'add'))  # Example usage\n"
   ]
  },
  {
   "cell_type": "code",
   "execution_count": null,
   "id": "87024ea2-77dc-4b1d-a40d-21e8dc53e453",
   "metadata": {},
   "outputs": [],
   "source": []
  }
 ],
 "metadata": {
  "kernelspec": {
   "display_name": "Python 3 (ipykernel)",
   "language": "python",
   "name": "python3"
  },
  "language_info": {
   "codemirror_mode": {
    "name": "ipython",
    "version": 3
   },
   "file_extension": ".py",
   "mimetype": "text/x-python",
   "name": "python",
   "nbconvert_exporter": "python",
   "pygments_lexer": "ipython3",
   "version": "3.10.8"
  }
 },
 "nbformat": 4,
 "nbformat_minor": 5
}
